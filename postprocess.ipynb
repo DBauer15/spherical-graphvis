{
 "metadata": {
  "language_info": {
   "codemirror_mode": {
    "name": "ipython",
    "version": 3
   },
   "file_extension": ".py",
   "mimetype": "text/x-python",
   "name": "python",
   "nbconvert_exporter": "python",
   "pygments_lexer": "ipython3",
   "version": "3.9.7"
  },
  "orig_nbformat": 2,
  "kernelspec": {
   "name": "python3",
   "display_name": "Python 3.9.7 64-bit ('spherical-graphvis-Mbpr55l_': pipenv)"
  },
  "interpreter": {
   "hash": "f2972efe0a7359cf0b11146b83c8f452810b1b7bbfdc02b31451382e56643c7e"
  }
 },
 "nbformat": 4,
 "nbformat_minor": 2,
 "cells": [
  {
   "cell_type": "code",
   "execution_count": 4,
   "source": [
    "import numpy as np\r\n",
    "import json"
   ],
   "outputs": [],
   "metadata": {}
  },
  {
   "cell_type": "code",
   "execution_count": 43,
   "source": [
    "name = 'moreno_health'\r\n",
    "layout = 'spherical'\r\n",
    "filename = f'{name}-layout.json-{layout}.json'"
   ],
   "outputs": [],
   "metadata": {}
  },
  {
   "cell_type": "markdown",
   "source": [
    "## Load"
   ],
   "metadata": {}
  },
  {
   "cell_type": "code",
   "execution_count": 44,
   "source": [
    "with open(f'./result/{filename}') as file:\r\n",
    "    data = json.load(file)"
   ],
   "outputs": [],
   "metadata": {}
  },
  {
   "cell_type": "markdown",
   "source": [
    "## Transformation Functions"
   ],
   "metadata": {}
  },
  {
   "cell_type": "code",
   "execution_count": 45,
   "source": [
    "def copy_positions(data):\r\n",
    "\r\n",
    "    for node in data['nodes']:\r\n",
    "        pos = np.array([node['pos3D'][0], node['pos3D'][2], node['pos3D'][1]])\r\n",
    "\r\n",
    "        node['_position3D'] = {\r\n",
    "            'x': pos[0],\r\n",
    "            'y': pos[1],\r\n",
    "            'z': pos[2]\r\n",
    "        }"
   ],
   "outputs": [],
   "metadata": {}
  },
  {
   "cell_type": "code",
   "execution_count": 46,
   "source": [
    "def normalize(data):\r\n",
    "\r\n",
    "    for node in data['nodes']:\r\n",
    "        pos = np.array([node['pos3D'][0], node['pos3D'][2], node['pos3D'][1]])\r\n",
    "        pos *= 2\r\n",
    "        pos += -1\r\n",
    "\r\n",
    "        node['_position3D'] = {\r\n",
    "            'x': pos[0],\r\n",
    "            'y': pos[1],\r\n",
    "            'z': pos[2]\r\n",
    "        }"
   ],
   "outputs": [],
   "metadata": {}
  },
  {
   "cell_type": "code",
   "execution_count": 47,
   "source": [
    "def centralize_groups(data):\r\n",
    "    groups = np.unique(np.array([node['ancIdx'] for node in data['nodes'] if node['childIdx'] == []]))\r\n",
    "    \r\n",
    "    for group in groups:\r\n",
    "        positions = [node['_position3D'] for node in data['nodes'] if node['ancIdx'] == group and node['childIdx'] == []]\r\n",
    "        cx = np.mean([pos['x'] for pos in positions])\r\n",
    "        maxx = np.max([pos['x'] for pos in positions])\r\n",
    "        minx = np.min([pos['x'] for pos in positions])\r\n",
    "        cz = np.mean([pos['z'] for pos in positions])\r\n",
    "        maxz = np.max([pos['z'] for pos in positions])\r\n",
    "        minz = np.min([pos['z'] for pos in positions])\r\n",
    "\r\n",
    "        for position in positions:\r\n",
    "            position['x'] -= cx\r\n",
    "            position['x'] /= (maxx - minx)\r\n",
    "            position['z'] -= cz + 0.15 # one meter additional offset\r\n",
    "            position['z'] /= (maxz - minz)"
   ],
   "outputs": [],
   "metadata": {}
  },
  {
   "cell_type": "markdown",
   "source": [
    "These functions help create JSON graphs that can be deserialized in the IGVis project in Unity\r\n",
    "It is important to copy 'pos3D' into '_position3D' otherwise all coordinates in Unity end up being 0\r\n",
    "If you are processing data for the projected flat layout and want all groups to be centralized around 0,0 call centralize_groups in addition to normalize"
   ],
   "metadata": {}
  },
  {
   "cell_type": "code",
   "execution_count": 48,
   "source": [
    "if layout == 'spherical':\r\n",
    "    # Call this for 'spherical' layouts\r\n",
    "    copy_positions(data)\r\n",
    "elif layout == 'flat':\r\n",
    "    # Call this for 'flat' layouts\r\n",
    "    normalize(data)\r\n",
    "    centralize_groups(data)"
   ],
   "outputs": [],
   "metadata": {}
  },
  {
   "cell_type": "markdown",
   "source": [
    "## Save"
   ],
   "metadata": {}
  },
  {
   "cell_type": "code",
   "execution_count": 49,
   "source": [
    "with open(f'./result/{filename}', 'w') as file:\r\n",
    "    json.dump(data, file)"
   ],
   "outputs": [],
   "metadata": {
    "tags": []
   }
  },
  {
   "cell_type": "code",
   "execution_count": null,
   "source": [],
   "outputs": [],
   "metadata": {}
  }
 ]
}
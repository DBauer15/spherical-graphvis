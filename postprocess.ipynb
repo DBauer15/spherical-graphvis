{
 "metadata": {
  "language_info": {
   "codemirror_mode": {
    "name": "ipython",
    "version": 3
   },
   "file_extension": ".py",
   "mimetype": "text/x-python",
   "name": "python",
   "nbconvert_exporter": "python",
   "pygments_lexer": "ipython3",
   "version": "3.8.1-final"
  },
  "orig_nbformat": 2,
  "kernelspec": {
   "name": "python3",
   "display_name": "Python 3.8.1 64-bit ('.venv': venv)",
   "metadata": {
    "interpreter": {
     "hash": "20c522e14d4480a2acefa6c6729d976a0571b19c12d73bc12c1129779952c861"
    }
   }
  }
 },
 "nbformat": 4,
 "nbformat_minor": 2,
 "cells": [
  {
   "cell_type": "code",
   "execution_count": 137,
   "metadata": {},
   "outputs": [],
   "source": [
    "from stlayout.treemap import TreeMap\n",
    "from stlayout.hierarchyUtils import clean_idle_nodes, set_nodes_height\n",
    "from fa2 import ForceAtlas2\n",
    "import networkx as nx\n",
    "import numpy as np\n",
    "import json"
   ]
  },
  {
   "cell_type": "code",
   "execution_count": 138,
   "metadata": {},
   "outputs": [],
   "source": [
    "filename = 'celegansneural-layout.json-flat.json'"
   ]
  },
  {
   "source": [
    "## Load"
   ],
   "cell_type": "markdown",
   "metadata": {}
  },
  {
   "cell_type": "code",
   "execution_count": 139,
   "metadata": {},
   "outputs": [],
   "source": [
    "with open(f'./result/{filename}') as file:\n",
    "    data = json.load(file)"
   ]
  },
  {
   "source": [
    "## Transformation Functions"
   ],
   "cell_type": "markdown",
   "metadata": {}
  },
  {
   "cell_type": "code",
   "execution_count": 140,
   "metadata": {},
   "outputs": [],
   "source": [
    "def normalize(data):\n",
    "\n",
    "    for node in data['nodes']:\n",
    "        pos = np.array([node['pos3D'][0], node['pos3D'][2], node['pos3D'][1]])\n",
    "        pos *= 2\n",
    "        pos += -1\n",
    "\n",
    "        node['_position3D'] = {\n",
    "            'x': pos[0],\n",
    "            'y': pos[1],\n",
    "            'z': pos[2]\n",
    "        }"
   ]
  },
  {
   "cell_type": "code",
   "execution_count": 141,
   "metadata": {},
   "outputs": [],
   "source": [
    "def centralize_groups(data):\n",
    "    groups = np.unique(np.array([node['ancIdx'] for node in data['nodes'] if node['childIdx'] == []]))\n",
    "    \n",
    "    for group in groups:\n",
    "        positions = [node['_position3D'] for node in data['nodes'] if node['ancIdx'] == group and node['childIdx'] == []]\n",
    "        cx = np.mean([pos['x'] for pos in positions])\n",
    "        maxx = np.max([pos['x'] for pos in positions])\n",
    "        minx = np.min([pos['x'] for pos in positions])\n",
    "        cz = np.mean([pos['z'] for pos in positions])\n",
    "        maxz = np.max([pos['z'] for pos in positions])\n",
    "        minz = np.min([pos['z'] for pos in positions])\n",
    "\n",
    "        for position in positions:\n",
    "            position['x'] -= cx\n",
    "            position['x'] /= (maxx - minx)\n",
    "            position['z'] -= cz + 0.15 # one meter additional offset\n",
    "            position['z'] /= (maxz - minz)"
   ]
  },
  {
   "cell_type": "code",
   "execution_count": 142,
   "metadata": {
    "tags": []
   },
   "outputs": [],
   "source": [
    "normalize(data)\n",
    "centralize_groups(data)"
   ]
  },
  {
   "source": [
    "## Save"
   ],
   "cell_type": "markdown",
   "metadata": {}
  },
  {
   "cell_type": "code",
   "execution_count": 143,
   "metadata": {
    "tags": []
   },
   "outputs": [],
   "source": [
    "with open(f'./result/{filename}', 'w') as file:\n",
    "    json.dump(data, file)"
   ]
  },
  {
   "cell_type": "code",
   "execution_count": null,
   "metadata": {},
   "outputs": [],
   "source": []
  }
 ]
}